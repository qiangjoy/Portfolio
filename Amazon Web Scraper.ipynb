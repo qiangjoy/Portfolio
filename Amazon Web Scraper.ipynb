{
 "cells": [
  {
   "cell_type": "code",
   "execution_count": 3,
   "id": "4d2687da-6fcf-47c9-987e-2e664448b9a1",
   "metadata": {},
   "outputs": [],
   "source": [
    "#import libraries\n",
    "\n",
    "from bs4 import BeautifulSoup\n",
    "import pandas as pd\n",
    "import requests\n",
    "import time\n",
    "import datetime\n",
    "import csv"
   ]
  },
  {
   "cell_type": "code",
   "execution_count": 153,
   "id": "e1f89b8c-e938-486b-8ad0-2f93ed7a34c8",
   "metadata": {
    "scrolled": true
   },
   "outputs": [
    {
     "name": "stdout",
     "output_type": "stream",
     "text": [
      "\n",
      "             Logitech Ergo M575S Wireless Trackball Mouse, Wireless Ergonomic Mouse with Bluetooth and Encrypted Dongle, Comfortable Thumb Control, Precise and Smooth Tracking, for PC/Mac - Off- White Silver Ball\n",
      "            \n",
      "$57.99\n",
      "$45.78\n",
      "\n",
      "\n",
      "\n",
      "\n",
      "                4.6\n",
      "               \n",
      "\n",
      "\n",
      "                 4.6 out of 5 stars\n",
      "                \n",
      "\n",
      "\n",
      "\n",
      "\n",
      "\n",
      "\n",
      "\n",
      "\n",
      "\n",
      "              112 ratings\n",
      "             \n",
      "\n",
      "               Logitech\n",
      "              \n"
     ]
    }
   ],
   "source": [
    "#connect to website, pull in data from url\n",
    "\n",
    "URL = 'https://www.amazon.com/dp/B0D6Q2Q9JQ/ref=sbl_dpx_pc-accessories-mice_B08V1JWV82_99?th=1'\n",
    "headers = {\"User-Agent\": \"Mozilla/5.0 (Macintosh; Intel Mac OS X 11_15) AppleWebKit/537.36 (KHTML, like Gecko) Chrome/108.0.5392.175 Safari/537.36\", \"Accept-Encoding\":\"gzip, deflate\", \"Accept\":\"text/html,application/xhtml+xml,application/xml;q=0.9,*/*;q=0.8\", \"DNT\":\"1\",\"Connection\":\"close\", \"Upgrade-Insecure-Requests\":\"1\"}\n",
    "\n",
    "page = requests.get(URL, headers=headers)\n",
    "\n",
    "soup1 = BeautifulSoup(page.content, 'html.parser')\n",
    "soup2 = BeautifulSoup(soup1.prettify(), 'html.parser')\n",
    "\n",
    "#title\n",
    "title = soup2.find(id='productTitle').get_text()\n",
    "print(title)\n",
    "\n",
    "#item price\n",
    "price_symbol = soup2.find(class_='a-price-symbol').get_text(strip=True)\n",
    "price_whole_list = soup2.find_all(class_='a-price-whole')\n",
    "price_fraction_list = soup2.find_all(class_='a-price-fraction')\n",
    "\n",
    "price_whole = price_whole_list[1].get_text(strip=True)\n",
    "price_fraction = price_fraction_list[1].get_text(strip=True)\n",
    "\n",
    "price = f'{price_symbol}{price_whole}{price_fraction}'\n",
    "print(price)\n",
    "\n",
    "#used item price\n",
    "price_whole2 = price_whole_list[5].get_text(strip=True)\n",
    "price_fraction2 = price_fraction_list[5].get_text(strip=True)\n",
    "used_price = f'{price_symbol}{price_whole2}{price_fraction2}'\n",
    "print(used_price)\n",
    "\n",
    "#rating\n",
    "rating = soup2.find(id='acrPopover').get_text()\n",
    "print(rating)\n",
    "\n",
    "#number of reviews\n",
    "num_reviews = soup2.find(id='acrCustomerReviewText').get_text()\n",
    "print(num_reviews)\n",
    "\n",
    "#brand name\n",
    "brand = soup2.find(class_='a-size-base po-break-word').get_text()\n",
    "print(brand)"
   ]
  },
  {
   "cell_type": "code",
   "execution_count": 155,
   "id": "29908be5-5004-4984-8d20-c97fcb0c6516",
   "metadata": {},
   "outputs": [
    {
     "name": "stdout",
     "output_type": "stream",
     "text": [
      "Logitech Ergo M575S Wireless Trackball Mouse, Wireless Ergonomic Mouse with Bluetooth and Encrypted Dongle, Comfortable Thumb Control, Precise and Smooth Tracking, for PC/Mac - Off- White Silver Ball\n",
      "57.99\n",
      "45.78\n",
      "4.6\n",
      "112\n",
      "Logitech\n"
     ]
    }
   ],
   "source": [
    "#clean data\n",
    "title = title.strip()\n",
    "price = price.strip()[1:]\n",
    "used_price = used_price.strip()[1:]\n",
    "rating = rating.strip()[0:3]\n",
    "num_reviews = num_reviews.strip()[:-8]\n",
    "brand = brand.strip()\n",
    "\n",
    "print(title)\n",
    "print(price)\n",
    "print(used_price)\n",
    "print(rating)\n",
    "print(num_reviews)\n",
    "print(brand)"
   ]
  },
  {
   "cell_type": "code",
   "execution_count": 157,
   "id": "585fce42-f20b-4099-8702-e06002758e46",
   "metadata": {},
   "outputs": [
    {
     "name": "stdout",
     "output_type": "stream",
     "text": [
      "2025-01-18\n"
     ]
    }
   ],
   "source": [
    "#get timestamp\n",
    "\n",
    "today = datetime.date.today()\n",
    "print(today)"
   ]
  },
  {
   "cell_type": "code",
   "execution_count": 161,
   "id": "ca388e77-24a9-4df8-a94f-bb0b5ffba2e5",
   "metadata": {},
   "outputs": [],
   "source": [
    "#create CSV, write in headers and data\n",
    "\n",
    "header = ['Title', 'Price', 'Used Price', 'Rating', 'Number of Reviews', 'Brand', 'Date']\n",
    "data = [title, price, used_price, rating, num_reviews, brand, today]\n",
    "\n",
    "with open('AmazonWebScraperData.csv', 'w', newline='', encoding='UTF8') as f:\n",
    "    writer = csv.writer(f)\n",
    "    writer.writerow(header)\n",
    "    writer.writerow(data)"
   ]
  },
  {
   "cell_type": "code",
   "execution_count": 163,
   "id": "5a1e532d-1f51-41c3-9a83-23100ba0c624",
   "metadata": {},
   "outputs": [
    {
     "name": "stdout",
     "output_type": "stream",
     "text": [
      "                                               Title  Price  Used Price  \\\n",
      "0  Logitech Ergo M575S Wireless Trackball Mouse, ...  57.99       45.78   \n",
      "\n",
      "   Rating  Number of Reviews     Brand        Date  \n",
      "0     4.6                112  Logitech  2025-01-18  \n"
     ]
    }
   ],
   "source": [
    "df = pd.read_csv(r'C:\\Users\\jinghong\\AmazonWebScraperData.csv')\n",
    "print(df)"
   ]
  },
  {
   "cell_type": "code",
   "execution_count": 165,
   "id": "3cd479fd-942c-41ea-ba6f-d8cf44d66460",
   "metadata": {},
   "outputs": [],
   "source": [
    "#append new data to csv\n",
    "\n",
    "with open('AmazonWebScraperData.csv', 'a+', newline='', encoding='UTF8') as f:\n",
    "    writer = csv.writer(f)\n",
    "    writer.writerow(data)"
   ]
  },
  {
   "cell_type": "code",
   "execution_count": 167,
   "id": "14d2433a-06b5-435a-a8ae-70ffb8dd9b4f",
   "metadata": {},
   "outputs": [],
   "source": [
    "#function to automate \n",
    "\n",
    "def check_price():\n",
    "    URL = 'https://www.amazon.com/dp/B0D6Q2Q9JQ/ref=sbl_dpx_pc-accessories-mice_B08V1JWV82_99?th=1'\n",
    "    headers = {\"User-Agent\": \"Mozilla/5.0 (Macintosh; Intel Mac OS X 11_15) AppleWebKit/537.36 (KHTML, like Gecko) Chrome/108.0.5392.175 Safari/537.36\", \"Accept-Encoding\":\"gzip, deflate\", \"Accept\":\"text/html,application/xhtml+xml,application/xml;q=0.9,*/*;q=0.8\", \"DNT\":\"1\",\"Connection\":\"close\", \"Upgrade-Insecure-Requests\":\"1\"}\n",
    "    page = requests.get(URL, headers=headers)\n",
    "    \n",
    "    soup1 = BeautifulSoup(page.content, 'html.parser')\n",
    "    soup2 = BeautifulSoup(soup1.prettify(), 'html.parser')\n",
    "    \n",
    "    title = soup2.find(id='productTitle').get_text()\n",
    "    \n",
    "    price_symbol = soup2.find(class_='a-price-symbol').get_text(strip=True)\n",
    "    price_whole_list = soup2.find_all(class_='a-price-whole')\n",
    "    price_fraction_list = soup2.find_all(class_='a-price-fraction')\n",
    "    price_whole = price_whole_list[1].get_text(strip=True)\n",
    "    price_fraction = price_fraction_list[1].get_text(strip=True)\n",
    "    price = f'{price_symbol}{price_whole}{price_fraction}'\n",
    "\n",
    "    price_whole2 = price_whole_list[5].get_text(strip=True)\n",
    "    price_fraction2 = price_fraction_list[5].get_text(strip=True)\n",
    "    used_price = f'{price_symbol}{price_whole2}{price_fraction2}'\n",
    "\n",
    "    rating = soup2.find(id='acrPopover').get_text()\n",
    "    num_reviews = soup2.find(id='acrCustomerReviewText').get_text()\n",
    "    brand = soup2.find(class_='a-size-base po-break-word').get_text()\n",
    "\n",
    "    title = title.strip()\n",
    "    price = price.strip()[1:]\n",
    "    used_price = used_price.strip()[1:]\n",
    "    rating = rating.strip()[0:3]\n",
    "    num_reviews = num_reviews.strip()[:-8]\n",
    "    brand = brand.strip()\n",
    "\n",
    "    today = datetime.date.today()\n",
    "\n",
    "    header = ['Title', 'Price', 'Used Price', 'Rating', 'Number of Reviews', 'Brand', 'Date']\n",
    "    data = [title, price, used_price, rating, num_reviews, brand, today]\n",
    "\n",
    "    \n",
    "    with open('AmazonWebScraperData.csv', 'a+', newline='', encoding='UTF8') as f:\n",
    "        writer = csv.writer(f)\n",
    "        writer.writerow(data)"
   ]
  },
  {
   "cell_type": "code",
   "execution_count": null,
   "id": "bd89ef30-6499-4f0e-a2ef-9c4254a4b986",
   "metadata": {},
   "outputs": [],
   "source": [
    "#runs automated check_price function after a set time (here once a day)\n",
    "\n",
    "while(True):\n",
    "    check_price()\n",
    "    time.sleep(86400)"
   ]
  },
  {
   "cell_type": "code",
   "execution_count": null,
   "id": "46b13c68-890b-49b6-91a6-3fa631370516",
   "metadata": {},
   "outputs": [],
   "source": [
    "#updated CSV\n",
    "\n",
    "df = pd.read_csv(r'C:\\Users\\jinghong\\AmazonWebScraperData.csv')\n",
    "print(df)"
   ]
  }
 ],
 "metadata": {
  "kernelspec": {
   "display_name": "Python 3 (ipykernel)",
   "language": "python",
   "name": "python3"
  },
  "language_info": {
   "codemirror_mode": {
    "name": "ipython",
    "version": 3
   },
   "file_extension": ".py",
   "mimetype": "text/x-python",
   "name": "python",
   "nbconvert_exporter": "python",
   "pygments_lexer": "ipython3",
   "version": "3.12.4"
  }
 },
 "nbformat": 4,
 "nbformat_minor": 5
}
